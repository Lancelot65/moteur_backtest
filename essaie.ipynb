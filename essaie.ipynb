{
 "cells": [
  {
   "cell_type": "code",
   "execution_count": 1,
   "metadata": {},
   "outputs": [],
   "source": [
    "import pandas as pd"
   ]
  },
  {
   "cell_type": "code",
   "execution_count": 29,
   "metadata": {},
   "outputs": [],
   "source": [
    "over_position = pd.DataFrame({\n",
    "\t\t\t\"ligne\" : [123],\n",
    "\t\t\t\"mode\" : [\"short\"],\n",
    "\t\t\t\"open\" : [1200],\n",
    "\t\t\t\"close\" : [1300],\n",
    "\t\t\t\"stop_loss\" : [True],\n",
    "\t\t\t\"take_profit\" : [False]\n",
    "\t\t})\n",
    "over_position2 = {\n",
    "\t\t\t\"ligne\" : [123],\n",
    "\t\t\t\"mode\" : [\"short\"],\n",
    "\t\t\t\"open\" : [1200],\n",
    "\t\t\t\"close\" : [1300],\n",
    "\t\t\t\"stop_loss\" : [True],\n",
    "\t\t\t\"take_profit\" : [False]\n",
    "\t\t}"
   ]
  },
  {
   "cell_type": "code",
   "execution_count": 35,
   "metadata": {},
   "outputs": [],
   "source": [
    "add_ligne = pd.DataFrame({\n",
    "    \"ligne\" : [1],\n",
    "    \"mode\" : [\"long\"],\n",
    "    \"open\" : [7],\n",
    "    \"close\" : [7],\n",
    "    \"stop_loss\" : ['False'],\n",
    "    \"take_profit\" : ['True']\n",
    "})\n",
    "\n",
    "over_position = pd.concat([over_position, add_ligne])"
   ]
  },
  {
   "cell_type": "code",
   "execution_count": 36,
   "metadata": {},
   "outputs": [
    {
     "data": {
      "text/html": [
       "<div>\n",
       "<style scoped>\n",
       "    .dataframe tbody tr th:only-of-type {\n",
       "        vertical-align: middle;\n",
       "    }\n",
       "\n",
       "    .dataframe tbody tr th {\n",
       "        vertical-align: top;\n",
       "    }\n",
       "\n",
       "    .dataframe thead th {\n",
       "        text-align: right;\n",
       "    }\n",
       "</style>\n",
       "<table border=\"1\" class=\"dataframe\">\n",
       "  <thead>\n",
       "    <tr style=\"text-align: right;\">\n",
       "      <th></th>\n",
       "      <th>ligne</th>\n",
       "      <th>mode</th>\n",
       "      <th>open</th>\n",
       "      <th>close</th>\n",
       "      <th>stop_loss</th>\n",
       "      <th>take_profit</th>\n",
       "    </tr>\n",
       "  </thead>\n",
       "  <tbody>\n",
       "    <tr>\n",
       "      <th>0</th>\n",
       "      <td>123</td>\n",
       "      <td>short</td>\n",
       "      <td>1200</td>\n",
       "      <td>1300</td>\n",
       "      <td>True</td>\n",
       "      <td>False</td>\n",
       "    </tr>\n",
       "    <tr>\n",
       "      <th>0</th>\n",
       "      <td>1</td>\n",
       "      <td>long</td>\n",
       "      <td>7</td>\n",
       "      <td>7</td>\n",
       "      <td>False</td>\n",
       "      <td>True</td>\n",
       "    </tr>\n",
       "  </tbody>\n",
       "</table>\n",
       "</div>"
      ],
      "text/plain": [
       "   ligne   mode  open  close stop_loss take_profit\n",
       "0    123  short  1200   1300      True       False\n",
       "0      1   long     7      7     False        True"
      ]
     },
     "execution_count": 36,
     "metadata": {},
     "output_type": "execute_result"
    }
   ],
   "source": [
    "over_position"
   ]
  },
  {
   "cell_type": "code",
   "execution_count": 28,
   "metadata": {},
   "outputs": [
    {
     "data": {
      "text/html": [
       "<div>\n",
       "<style scoped>\n",
       "    .dataframe tbody tr th:only-of-type {\n",
       "        vertical-align: middle;\n",
       "    }\n",
       "\n",
       "    .dataframe tbody tr th {\n",
       "        vertical-align: top;\n",
       "    }\n",
       "\n",
       "    .dataframe thead th {\n",
       "        text-align: right;\n",
       "    }\n",
       "</style>\n",
       "<table border=\"1\" class=\"dataframe\">\n",
       "  <thead>\n",
       "    <tr style=\"text-align: right;\">\n",
       "      <th></th>\n",
       "      <th>mode</th>\n",
       "      <th>open</th>\n",
       "      <th>close</th>\n",
       "      <th>stop_loss</th>\n",
       "      <th>take_profit</th>\n",
       "    </tr>\n",
       "    <tr>\n",
       "      <th>ligne</th>\n",
       "      <th></th>\n",
       "      <th></th>\n",
       "      <th></th>\n",
       "      <th></th>\n",
       "      <th></th>\n",
       "    </tr>\n",
       "  </thead>\n",
       "  <tbody>\n",
       "    <tr>\n",
       "      <th>123</th>\n",
       "      <td>short</td>\n",
       "      <td>1200</td>\n",
       "      <td>1300</td>\n",
       "      <td>True</td>\n",
       "      <td>False</td>\n",
       "    </tr>\n",
       "    <tr>\n",
       "      <th>123</th>\n",
       "      <td>short</td>\n",
       "      <td>1200</td>\n",
       "      <td>1300</td>\n",
       "      <td>True</td>\n",
       "      <td>False</td>\n",
       "    </tr>\n",
       "    <tr>\n",
       "      <th>123</th>\n",
       "      <td>short</td>\n",
       "      <td>1200</td>\n",
       "      <td>1300</td>\n",
       "      <td>True</td>\n",
       "      <td>False</td>\n",
       "    </tr>\n",
       "    <tr>\n",
       "      <th>123</th>\n",
       "      <td>short</td>\n",
       "      <td>1200</td>\n",
       "      <td>1300</td>\n",
       "      <td>True</td>\n",
       "      <td>False</td>\n",
       "    </tr>\n",
       "  </tbody>\n",
       "</table>\n",
       "</div>"
      ],
      "text/plain": [
       "        mode  open  close  stop_loss  take_profit\n",
       "ligne                                            \n",
       "123    short  1200   1300       True        False\n",
       "123    short  1200   1300       True        False\n",
       "123    short  1200   1300       True        False\n",
       "123    short  1200   1300       True        False"
      ]
     },
     "execution_count": 28,
     "metadata": {},
     "output_type": "execute_result"
    }
   ],
   "source": [
    "over_position"
   ]
  }
 ],
 "metadata": {
  "kernelspec": {
   "display_name": "Python 3",
   "language": "python",
   "name": "python3"
  },
  "language_info": {
   "codemirror_mode": {
    "name": "ipython",
    "version": 3
   },
   "file_extension": ".py",
   "mimetype": "text/x-python",
   "name": "python",
   "nbconvert_exporter": "python",
   "pygments_lexer": "ipython3",
   "version": "3.10.11"
  },
  "orig_nbformat": 4
 },
 "nbformat": 4,
 "nbformat_minor": 2
}
