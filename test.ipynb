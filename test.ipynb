{
 "cells": [
  {
   "cell_type": "code",
   "execution_count": 2,
   "metadata": {},
   "outputs": [],
   "source": [
    "from backtest_python import Backtest"
   ]
  },
  {
   "cell_type": "code",
   "execution_count": 3,
   "metadata": {},
   "outputs": [
    {
     "name": "stdout",
     "output_type": "stream",
     "text": [
      "\u001b[36m Downloading BTC/USDT 30m data from 2023-01-01 00:00:00 to 2023-01-11 09:30:00 \u001b[39m\n",
      "\u001b[36m  100.0% \u001b[35m\u001b[1m[████████████████████████████████████████████████████████████████████████████████████████████████████] [+] \u001b[0m\u001b[36m  \u001b[0m\n",
      "\u001b[36m Aggregating 1 dataframe for a total of 500 candles. This might take some time. \u001b[39m\n",
      "\u001b[36m Verifying data integrity. \u001b[39m\n",
      "\u001b[36m Saving BTC/USDT 30m data to the database. \u001b[39m\n"
     ]
    }
   ],
   "source": [
    "test = Backtest(1000)\n",
    "test.load_data()"
   ]
  },
  {
   "cell_type": "code",
   "execution_count": 6,
   "metadata": {},
   "outputs": [],
   "source": [
    "test.data[\"mm20\"] = test.data.close.rolling(20).mean()\n",
    "test.data[\"achat\"] = test.trier_signal(test.data.mm20 < test.data.close)\n",
    "test.data[\"vente\"] = test.trier_signal(test.data.mm20 > test.data.close)"
   ]
  },
  {
   "cell_type": "code",
   "execution_count": 7,
   "metadata": {},
   "outputs": [
    {
     "ename": "AttributeError",
     "evalue": "'Backtest' object has no attribute 'va_take_profit_long'",
     "output_type": "error",
     "traceback": [
      "\u001b[1;31m---------------------------------------------------------------------------\u001b[0m",
      "\u001b[1;31mAttributeError\u001b[0m                            Traceback (most recent call last)",
      "Cell \u001b[1;32mIn[7], line 9\u001b[0m\n\u001b[0;32m      6\u001b[0m     test\u001b[39m.\u001b[39mclose_long(test\u001b[39m.\u001b[39mdata\u001b[39m.\u001b[39mclose, i)\n\u001b[0;32m      7\u001b[0m     test\u001b[39m.\u001b[39mopen_short(test\u001b[39m.\u001b[39mdata\u001b[39m.\u001b[39mclose[i], i, \u001b[39m10\u001b[39m)\n\u001b[1;32m----> 9\u001b[0m test\u001b[39m.\u001b[39;49mupdate(i, test\u001b[39m.\u001b[39;49mdata\u001b[39m.\u001b[39;49mclose[i])\n",
      "File \u001b[1;32mc:\\Users\\Public\\python\\backtest_python.py:116\u001b[0m, in \u001b[0;36mBacktest.update\u001b[1;34m(self, pos, close)\u001b[0m\n\u001b[0;32m    112\u001b[0m \u001b[39mdef\u001b[39;00m \u001b[39mupdate\u001b[39m(\u001b[39mself\u001b[39m, pos, close):\n\u001b[0;32m    113\u001b[0m \u001b[39m\t\u001b[39m\u001b[39m\"\"\"\u001b[39;00m\n\u001b[0;32m    114\u001b[0m \u001b[39m\tclose_actuel\u001b[39;00m\n\u001b[0;32m    115\u001b[0m \u001b[39m\t\"\"\"\u001b[39;00m\n\u001b[1;32m--> 116\u001b[0m \t\u001b[39mself\u001b[39;49m\u001b[39m.\u001b[39;49mtake_profit(close, pos)\n\u001b[0;32m    117\u001b[0m \t\u001b[39mself\u001b[39m\u001b[39m.\u001b[39mstop_loss(close, pos)\n\u001b[0;32m    118\u001b[0m \t\u001b[39mself\u001b[39m\u001b[39m.\u001b[39mdata\u001b[39m.\u001b[39mat[pos, \u001b[39m'\u001b[39m\u001b[39mevolution_price\u001b[39m\u001b[39m'\u001b[39m] \u001b[39m=\u001b[39m \u001b[39mself\u001b[39m\u001b[39m.\u001b[39mcapital\n",
      "File \u001b[1;32mc:\\Users\\Public\\python\\backtest_python.py:121\u001b[0m, in \u001b[0;36mBacktest.take_profit\u001b[1;34m(self, close, position)\u001b[0m\n\u001b[0;32m    120\u001b[0m \u001b[39mdef\u001b[39;00m \u001b[39mtake_profit\u001b[39m(\u001b[39mself\u001b[39m, close, position):\n\u001b[1;32m--> 121\u001b[0m \t\u001b[39mif\u001b[39;00m \u001b[39mself\u001b[39;49m\u001b[39m.\u001b[39;49mva_take_profit_long \u001b[39mis\u001b[39;00m \u001b[39mnot\u001b[39;00m \u001b[39mNone\u001b[39;00m:\n\u001b[0;32m    123\u001b[0m \t\t\u001b[39mif\u001b[39;00m \u001b[39mself\u001b[39m\u001b[39m.\u001b[39mva_take_profit_long \u001b[39m<\u001b[39m close:\n\u001b[0;32m    124\u001b[0m \t\t\t\u001b[39mprint\u001b[39m(\u001b[39m\"\u001b[39m\u001b[39mtake_profit_long\u001b[39m\u001b[39m\"\u001b[39m)\n",
      "\u001b[1;31mAttributeError\u001b[0m: 'Backtest' object has no attribute 'va_take_profit_long'"
     ]
    }
   ],
   "source": [
    "for i in range(len(test.data.close)):\n",
    "    if test.data.achat[i] == True:\n",
    "        test.open_long(test.data.close[i], i, 10)\n",
    "        test.close_short(test.data.close, i)\n",
    "    elif test.data.vente[i] == True:\n",
    "        test.close_long(test.data.close, i)\n",
    "        test.open_short(test.data.close[i], i, 10)\n",
    "    \n",
    "    test.update(i, test.data.close[i])"
   ]
  }
 ],
 "metadata": {
  "kernelspec": {
   "display_name": "Python 3",
   "language": "python",
   "name": "python3"
  },
  "language_info": {
   "codemirror_mode": {
    "name": "ipython",
    "version": 3
   },
   "file_extension": ".py",
   "mimetype": "text/x-python",
   "name": "python",
   "nbconvert_exporter": "python",
   "pygments_lexer": "ipython3",
   "version": "3.10.11"
  },
  "orig_nbformat": 4
 },
 "nbformat": 4,
 "nbformat_minor": 2
}
